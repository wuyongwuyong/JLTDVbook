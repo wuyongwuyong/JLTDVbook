{
 "cells": [
  {
   "attachments": {},
   "cell_type": "markdown",
   "metadata": {},
   "source": [
    "# 散点图\n",
    "\n",
    "## 一般散点图示例\n",
    "\n",
    "调用如下函数，可以绘制得到散点图。"
   ]
  },
  {
   "cell_type": "code",
   "execution_count": 2,
   "metadata": {
    "tags": [
     "hide-input"
    ]
   },
   "outputs": [
    {
     "name": "stdout",
     "output_type": "stream",
     "text": [
      "Created file '/home/Jmatlab/workspace/LTDV/LTDVbook/LTDVbook/LTDV/MATLABcode/Luochao/LTDV_Scatter.m'.\n"
     ]
    }
   ],
   "source": [
    "%%file ../../../LTDV/MATLABcode/Luochao/LTDV_Scatter.m\n",
    "\n",
    "%% LTDV_Scatter: 2D Scatter plot for matlab \n",
    "%% Input args\n",
    "% y -- y data to plot, necessary!!!\n",
    "% x -- x data\n",
    "% lwidth -- linewidth\n",
    "% lcolor -- line color, single color\n",
    "% Gradientcolor -- Gradual color change, yes(1) or no(0)\n",
    "% c -- Color change basis\n",
    "% fz -- fontsize\n",
    "% sfilled -- Shape of the scattered dots\n",
    "% ssize -- size of dots\n",
    "% hold_sign -- new plot(0) or hold on(1)\n",
    "% x_name -- xlabel\n",
    "% y_name -- ylabel\n",
    "% boxoff -- box off(1) or on(0)\n",
    "% gridon -- grid on(1) or off(0)\n",
    "% legendon -- legend on(1) or off(0)\n",
    "%% Call Demo.\n",
    "% LTDV_Scatter(1:1:10, 'sfilled', 'pentagram','boxoff', 1, 'hold_sign', 0, 'Gradientcolor', 1);\n",
    "%% Hist. info.\n",
    "% Created by ChaoLuo @ 2023/6/12\n",
    "function LTDV_Scatter(y, varargin)\n",
    "    %% input Parser with default values\n",
    "    p = inputParser;\n",
    "    addParameter(p, 'x', 1:1:length(y));\n",
    "    addParameter(p, 'lwidth', 1.5);\n",
    "    addParameter(p, 'lcolor', [hex2dec('fb'), hex2dec('5b'), hex2dec('a3')]./255); %单一配色\n",
    "    addParameter(p, 'Gradientcolor', 0);        %选择渐变色\n",
    "    c = linspace(1,10,length(y));               %以y强度作为颜色轴\n",
    "    addParameter(p, 'fz', 16);\n",
    "    addParameter(p, 'sfilled', 'pentagram');    %散点形状可选\n",
    "    addParameter(p, 'ssize', 40);\n",
    "    addParameter(p, 'hold_sign', 0);\n",
    "    addParameter(p, 'x_name', 'Time');\n",
    "    addParameter(p, 'y_name', 'Intensity (a.u.)');\n",
    "    addParameter(p, 'boxoff', 0);\n",
    "    addParameter(p, 'gridon', 0);\n",
    "    addParameter(p, 'legendon', 0);\n",
    "    parse(p,varargin{:});       % 对输入变量进行解析，如果检测到前面的变量被赋值，则更新变量取值\n",
    "    x = p.Results.x;\n",
    "    if(p.Results.hold_sign)\n",
    "        hold on;\n",
    "    else\n",
    "        figure;\n",
    "    end\n",
    "    \n",
    "    if (p.Results.Gradientcolor)\n",
    "        scatter(x, y, p.Results.ssize, c, p.Results.sfilled, 'linewidth', p.Results.lwidth);\n",
    "    else\n",
    "        scatter(x, y, p.Results.ssize, p.Results.sfilled, 'linewidth', p.Results.lwidth, 'MarkerEdgecolor', p.Results.lcolor);\n",
    "    end\n",
    "    \n",
    "    xlabel(p.Results.x_name); ylabel(p.Results.y_name);\n",
    "    xlim([x(1) x(end)]);\n",
    "    set(gca, 'FontSize', p.Results.fz);\n",
    "    \n",
    "    if(p.Results.boxoff)\n",
    "        box off;\n",
    "    end\n",
    "    if(p.Results.gridon)\n",
    "        grid on;\n",
    "    end\n",
    "    if(p.Results.legendon)\n",
    "        legend on;\n",
    "    end\n",
    "    end\n",
    "    \n",
    "    \n",
    "    \n"
   ]
  },
  {
   "attachments": {},
   "cell_type": "markdown",
   "metadata": {},
   "source": [
    "### 调用语句及效果\n",
    "\n",
    "按照如下进行调用即可"
   ]
  },
  {
   "cell_type": "code",
   "execution_count": 8,
   "metadata": {},
   "outputs": [
    {
     "name": "stderr",
     "output_type": "stream",
     "text": [
      "\u001b[0;31m\u001a\u001a\u001a\u001a eval\n",
      "\u001a\u001a\u001a\u001a\u001a 'LTDV_Scatter' \u001a\u001a\u001a\u001a\u001a\n",
      "\n",
      "\u001b[0m"
     ]
    }
   ],
   "source": [
    "LTDV_Scatter(1:1:10, 'sfilled', 'pentagram','boxoff', 1, 'hold_sign', 0, 'Gradientcolor', 1);"
   ]
  }
 ],
 "metadata": {
  "kernelspec": {
   "display_name": "Matlab (Connection)",
   "language": "matlab",
   "name": "matlab_connect"
  },
  "language_info": {
   "codemirror_mode": "octave",
   "file_extension": ".m",
   "help_links": [
    {
     "text": "MetaKernel Magics",
     "url": "https://metakernel.readthedocs.io/en/latest/source/README.html"
    }
   ],
   "mimetype": "text/x-octave",
   "name": "matlab",
   "version": "0.17.1"
  }
 },
 "nbformat": 4,
 "nbformat_minor": 2
}