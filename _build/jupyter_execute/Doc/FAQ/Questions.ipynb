{
 "cells": [
  {
   "attachments": {},
   "cell_type": "markdown",
   "metadata": {},
   "source": [
    "# FAQs\n",
    "\n",
    "这里用于更新大家使用过程中遇到的问题，大家可以积极反馈。\n",
    "\n",
    "# 仪器连接问题\n",
    "\n",
    "## FROG 连接问题\n",
    "\n",
    "### videoFROGscan软件报错缺少DLL\n",
    "AMD的CPU通过增加系统环境变量MKL_DEBUG_CPU_TYPE，值设置为5."
   ]
  }
 ],
 "metadata": {
  "language_info": {
   "name": "python"
  }
 },
 "nbformat": 4,
 "nbformat_minor": 2
}