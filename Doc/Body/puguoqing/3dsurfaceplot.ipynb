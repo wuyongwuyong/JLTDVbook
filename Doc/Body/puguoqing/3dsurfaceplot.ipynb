{
 "cells": [
  {
   "attachments": {},
   "cell_type": "markdown",
   "metadata": {},
   "source": [
    "# 3D曲面图\n",
    "\n",
    "3D曲面图"
   ]
  }
 ],
 "metadata": {
  "language_info": {
   "name": "python"
  },
  "orig_nbformat": 4
 },
 "nbformat": 4,
 "nbformat_minor": 2
}
